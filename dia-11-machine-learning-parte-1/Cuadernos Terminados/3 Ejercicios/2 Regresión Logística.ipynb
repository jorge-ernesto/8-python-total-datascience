{
 "cells": [
  {
   "cell_type": "markdown",
   "id": "bef9bf36",
   "metadata": {},
   "source": [
    "---"
   ]
  },
  {
   "cell_type": "markdown",
   "id": "7c400cf3",
   "metadata": {},
   "source": [
    "## Regresión Logística en Machine Learning 1\n",
    "\n",
    "Utiliza el siguiente dataframe con los datos ya cargados:\n",
    "\n",
    "```python\n",
    "datos = {\n",
    "    'edad': [25, 30, 45, 22, 34, 40, 27, 31, 43, 50],\n",
    "    'salario': [50000, 54000, 72000, 42000, 62000, 68000, 49000, 56000, 76000, 90000],\n",
    "    'compra': [0, 0, 1, 0, 1, 1, 0, 0, 1, 1]\n",
    "}\n",
    "df = pd.DataFrame(datos)\n",
    "```\n",
    "\n",
    "Con esta información previa debes realizar los siguientes pasos:\n",
    "\n",
    "- Grafica un diagrama de dispersión (scatter) que muestre la relación entre la edad y la compra de seguros.\n",
    "- Etiqueta del eje x: 'Edad'\n",
    "- Etiqueta del eje y: 'Compra de seguros'\n",
    "- Activa la rejilla en el gráfico (grid)\n",
    "\n",
    "Recuerda importar los módulos de python necesarios para que tu código funcione correctamente.\n",
    "\n",
    "Observación:\n",
    "\n",
    "El gráfico que debes obtener será idéntico a este:\n",
    "\n",
    "<img src=\"assets/img/2 regresion_logistica_ejercicio_1.png\" width=\"300px\">"
   ]
  },
  {
   "cell_type": "code",
   "execution_count": 1,
   "id": "7fdc273a",
   "metadata": {},
   "outputs": [
    {
     "data": {
      "image/png": "[encoded data removed]",
      "text/plain": [
       "<Figure size 640x480 with 1 Axes>"
      ]
     },
     "metadata": {},
     "output_type": "display_data"
    }
   ],
   "source": [
    "import pandas as pd\n",
    "import matplotlib.pyplot as plt\n",
    " \n",
    "# Crear un DataFrame de ejemplo con datos de clientes\n",
    "datos = {\n",
    "    'edad': [25, 30, 45, 22, 34, 40, 27, 31, 43, 50],\n",
    "    'salario': [50000, 54000, 72000, 42000, 62000, 68000, 49000, 56000, 76000, 90000],\n",
    "    'compra': [0, 0, 1, 0, 1, 1, 0, 0, 1, 1]\n",
    "}\n",
    "df = pd.DataFrame(datos)\n",
    " \n",
    "# Graficar el diagrama de dispersión para la relación entre la edad y la compra de seguros\n",
    "plt.scatter(df.edad, df.compra)\n",
    "plt.xlabel('Edad')\n",
    "plt.ylabel('Compra de seguros')\n",
    "plt.grid(True);"
   ]
  },
  {
   "cell_type": "markdown",
   "id": "3c06f406",
   "metadata": {},
   "source": [
    "---"
   ]
  },
  {
   "cell_type": "markdown",
   "id": "27d1cd8c",
   "metadata": {},
   "source": [
    "## Regresión Logística en Machine Learning 2\n",
    "\n",
    "Utilizando el DataFrame anterior, con datos de clientes:\n",
    "\n",
    "```python\n",
    "datos = {\n",
    "    'edad': [25, 30, 45, 22, 34, 40, 27, 31, 43, 50],\n",
    "    'salario': [50000, 54000, 72000, 42000, 62000, 68000, 49000, 56000, 76000, 90000],\n",
    "    'compra': [0, 0, 1, 0, 1, 1, 0, 0, 1, 1]\n",
    "}\n",
    "df = pd.DataFrame(datos)\n",
    "```\n",
    "\n",
    "Vamos a proceder a separar estos datos en conjuntos de entrenamiento y prueba, y luego a evaluar nuestro modelo de regresión logística.\n",
    "\n",
    "Utiliza la función correcta para dividir tu DataFrame en cuatro partes: X_entrena, X_prueba, y_entrena, y_prueba. Asegúrate de que la proporción de entrenamiento sea del 90% del total de los datos.\n",
    "\n",
    "Crea la variable modelo donde almacenes el modelo de regresión logística usando la clase adecuada de sklearn y entrénalo con los conjuntos X_entrena y y_entrena.\n",
    "\n",
    "Evalúa el desempeño de tu modelo con los datos de entrenamiento usando el método correcto para este fin.\n",
    "\n",
    "Recuerda importar los módulos de python necesarios para que tu código funcione correctamente.\n",
    "\n",
    "Observación:\n",
    "\n",
    "El gráfico que debes obtener será idéntico a este:\n",
    "\n",
    "**No hay imagen en Udemy**"
   ]
  },
  {
   "cell_type": "code",
   "execution_count": 2,
   "id": "9afe1637",
   "metadata": {},
   "outputs": [
    {
     "data": {
      "text/plain": [
       "1.0"
      ]
     },
     "execution_count": 2,
     "metadata": {},
     "output_type": "execute_result"
    }
   ],
   "source": [
    "import pandas as pd\n",
    "from sklearn.model_selection import train_test_split\n",
    "from sklearn.linear_model import LogisticRegression\n",
    "from sklearn.preprocessing import StandardScaler\n",
    " \n",
    "# Crear un DataFrame de ejemplo con datos de clientes\n",
    "datos = {\n",
    "    'edad': [25, 30, 45, 22, 34, 40, 27, 31, 43, 50],\n",
    "    'salario': [50000, 54000, 72000, 42000, 62000, 68000, 49000, 56000, 76000, 90000],\n",
    "    'compra': [0, 0, 1, 0, 1, 1, 0, 0, 1, 1]\n",
    "}\n",
    "df = pd.DataFrame(datos)\n",
    " \n",
    "# Separar las características y la variable objetivo\n",
    "X = df[['edad']]\n",
    "y = df['compra']\n",
    " \n",
    "# Dividir los datos en conjuntos de entrenamiento y prueba (90% entrenamiento, 10% prueba)\n",
    "X_entrena, X_prueba, y_entrena, y_prueba = train_test_split(X, y, train_size=0.9)\n",
    " \n",
    "# Crear y entrenar el modelo de regresión logística\n",
    "modelo = LogisticRegression()\n",
    "modelo.fit(X_entrena, y_entrena)\n",
    " \n",
    "# Evaluar el modelo con los datos de entrenamiento\n",
    "modelo.score(X_entrena, y_entrena)"
   ]
  },
  {
   "cell_type": "markdown",
   "id": "87c2213f",
   "metadata": {},
   "source": [
    "---"
   ]
  },
  {
   "cell_type": "code",
   "execution_count": null,
   "id": "8ca207ec",
   "metadata": {},
   "outputs": [],
   "source": []
  }
 ],
 "metadata": {
  "kernelspec": {
   "display_name": "Python 3 (ipykernel)",
   "language": "python",
   "name": "python3"
  },
  "language_info": {
   "codemirror_mode": {
    "name": "ipython",
    "version": 3
   },
   "file_extension": ".py",
   "mimetype": "text/x-python",
   "name": "python",
   "nbconvert_exporter": "python",
   "pygments_lexer": "ipython3",
   "version": "3.11.7"
  }
 },
 "nbformat": 4,
 "nbformat_minor": 5
}
